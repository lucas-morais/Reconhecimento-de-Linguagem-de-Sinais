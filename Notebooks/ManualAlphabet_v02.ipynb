{
 "cells": [
  {
   "cell_type": "markdown",
   "metadata": {},
   "source": [
    "### Reconhecimento de alfabeto de sinais\n",
    "\n",
    "Utiliza CNN pra reconhecer síbolo do alfabeto americano de sinais. \n",
    "O presente notebook organiza os testes realizados anteriormente e treina o modelo com um maior número de épocas"
   ]
  },
  {
   "cell_type": "code",
   "execution_count": 1,
   "metadata": {},
   "outputs": [
    {
     "name": "stderr",
     "output_type": "stream",
     "text": [
      "\n",
      "Bad key \"text.kerning_factor\" on line 4 in\n",
      "C:\\Users\\Jefferson\\anaconda3\\lib\\site-packages\\matplotlib\\mpl-data\\stylelib\\_classic_test_patch.mplstyle.\n",
      "You probably need to get an updated matplotlibrc file from\n",
      "https://github.com/matplotlib/matplotlib/blob/v3.1.3/matplotlibrc.template\n",
      "or from the matplotlib source distribution\n"
     ]
    }
   ],
   "source": [
    "import tensorflow as tf\n",
    "from tensorflow.keras.preprocessing.image import ImageDataGenerator\n",
    "import matplotlib.pyplot as plt\n",
    "import numpy as np\n",
    "from tensorflow.keras.preprocessing import image"
   ]
  },
  {
   "cell_type": "code",
   "execution_count": 2,
   "metadata": {},
   "outputs": [
    {
     "name": "stdout",
     "output_type": "stream",
     "text": [
      "Found 65250 images belonging to 29 classes.\n"
     ]
    }
   ],
   "source": [
    "# raliza o preprocessamento das images com o ImageDataGenerator do Keras\n",
    "# Neste teste simpes, não iremos testar os parâmetros do preprocessamento\n",
    "\n",
    "datagen = ImageDataGenerator(\n",
    "    rescale=1./255, \n",
    "    shear_range=0.2,\n",
    "    horizontal_flip=True,\n",
    "    validation_split=0.25 # divide o dataset em treino e validação\n",
    ")\n",
    "\n",
    "training_set = datagen.flow_from_directory(\n",
    "    '../Data/asl_alphabet_train/asl_alphabet_train', \n",
    "    target_size = (64,64), \n",
    "    batch_size=32, \n",
    "    subset= 'training',\n",
    "    class_mode = 'categorical')"
   ]
  },
  {
   "cell_type": "code",
   "execution_count": 3,
   "metadata": {},
   "outputs": [
    {
     "name": "stdout",
     "output_type": "stream",
     "text": [
      "Found 21750 images belonging to 29 classes.\n"
     ]
    }
   ],
   "source": [
    "# cria o dataset de validação\n",
    "test_set = datagen.flow_from_directory(\n",
    "    '../Data/asl_alphabet_train/asl_alphabet_train',\n",
    "        target_size=(64, 64),\n",
    "        batch_size=32,\n",
    "        subset= 'validation',\n",
    "        class_mode = 'categorical')"
   ]
  },
  {
   "cell_type": "code",
   "execution_count": 4,
   "metadata": {},
   "outputs": [],
   "source": [
    "# Cria modelo de CNN\n",
    "def cnn_sinais():\n",
    "    # inicializa o modelo\n",
    "    cnn = tf.keras.models.Sequential()\n",
    "    # adiciona camada de convolução\n",
    "    cnn.add(tf.keras.layers.Conv2D(filters=32, kernel_size = 4, activation='relu', input_shape = [64,64,3]))\n",
    "    # adiciona pooling\n",
    "    cnn.add(tf.keras.layers.MaxPool2D(pool_size =2, strides = 3))\n",
    "    # adiciona segunda camada de convolução\n",
    "    cnn.add(tf.keras.layers.Conv2D(filters=32, kernel_size = 4, activation='relu'))\n",
    "    cnn.add(tf.keras.layers.MaxPool2D(pool_size =2, strides = 3))\n",
    "    # adiciona flattening\n",
    "    cnn.add(tf.keras.layers.Flatten())\n",
    "    # adiociona camada de full connection\n",
    "    cnn.add(tf.keras.layers.Dense(units = 512, activation='relu'))\n",
    "    # adiciona camada de saída\n",
    "    cnn.add(tf.keras.layers.Dense(units = 29, activation='softmax'))\n",
    "    # compila o modelo\n",
    "    cnn.compile(optimizer='adam', loss='categorical_crossentropy', metrics=['accuracy'])\n",
    "    \n",
    "    return cnn"
   ]
  },
  {
   "cell_type": "code",
   "execution_count": 5,
   "metadata": {},
   "outputs": [
    {
     "name": "stdout",
     "output_type": "stream",
     "text": [
      "Epoch 1/8\n",
      "2040/2040 [==============================] - 531s 260ms/step - loss: 1.7921 - accuracy: 0.4717 - val_loss: 1.8480 - val_accuracy: 0.4886\n",
      "Epoch 2/8\n",
      "2040/2040 [==============================] - 464s 227ms/step - loss: 0.2118 - accuracy: 0.9310 - val_loss: 1.8707 - val_accuracy: 0.5636\n",
      "Epoch 3/8\n",
      "2040/2040 [==============================] - 390s 191ms/step - loss: 0.1079 - accuracy: 0.9640 - val_loss: 2.1263 - val_accuracy: 0.5824\n",
      "Epoch 4/8\n",
      "2040/2040 [==============================] - 402s 197ms/step - loss: 0.0694 - accuracy: 0.9779 - val_loss: 2.1942 - val_accuracy: 0.5790\n",
      "Epoch 5/8\n",
      "2040/2040 [==============================] - 438s 215ms/step - loss: 0.0595 - accuracy: 0.9815 - val_loss: 2.1088 - val_accuracy: 0.6091\n",
      "Epoch 6/8\n",
      "2040/2040 [==============================] - 375s 184ms/step - loss: 0.0452 - accuracy: 0.9856 - val_loss: 2.2256 - val_accuracy: 0.6106\n",
      "Epoch 7/8\n",
      "2040/2040 [==============================] - 332s 163ms/step - loss: 0.0440 - accuracy: 0.9875 - val_loss: 2.0787 - val_accuracy: 0.6282\n",
      "Epoch 8/8\n",
      "2040/2040 [==============================] - 318s 156ms/step - loss: 0.0342 - accuracy: 0.9901 - val_loss: 2.0827 - val_accuracy: 0.6487\n"
     ]
    }
   ],
   "source": [
    "modelo = cnn_sinais().fit(x = training_set, validation_data= test_set, epochs=8)"
   ]
  },
  {
   "cell_type": "code",
   "execution_count": 6,
   "metadata": {},
   "outputs": [
    {
     "data": {
      "image/png": "[encoded data removed]",
      "text/plain": [
       "<Figure size 432x288 with 1 Axes>"
      ]
     },
     "metadata": {
      "needs_background": "light"
     },
     "output_type": "display_data"
    },
    {
     "data": {
      "image/png": "[encoded data removed]",
      "text/plain": [
       "<Figure size 432x288 with 1 Axes>"
      ]
     },
     "metadata": {
      "needs_background": "light"
     },
     "output_type": "display_data"
    }
   ],
   "source": [
    "# summarize history for accuracy\n",
    "plt.plot(modelo.history['accuracy'])\n",
    "plt.plot(modelo.history['val_accuracy'])\n",
    "plt.title('model accuracy')\n",
    "plt.ylabel('accuracy')\n",
    "plt.xlabel('epoch')\n",
    "plt.legend(['train', 'test'], loc='upper left')\n",
    "plt.show()\n",
    "# summarize history for loss\n",
    "plt.plot(modelo.history['loss'])\n",
    "plt.plot(modelo.history['val_loss'])\n",
    "plt.title('model loss')\n",
    "plt.ylabel('loss')\n",
    "plt.xlabel('epoch')\n",
    "plt.legend(['train', 'test'], loc='upper left')\n",
    "plt.show()"
   ]
  },
  {
   "cell_type": "code",
   "execution_count": 17,
   "metadata": {},
   "outputs": [
    {
     "name": "stdout",
     "output_type": "stream",
     "text": [
      "WARNING:tensorflow:6 out of the last 6 calls to <function Model.make_predict_function.<locals>.predict_function at 0x0000021AF387C9D8> triggered tf.function retracing. Tracing is expensive and the excessive number of tracings could be due to (1) creating @tf.function repeatedly in a loop, (2) passing tensors with different shapes, (3) passing Python objects instead of tensors. For (1), please define your @tf.function outside of the loop. For (2), @tf.function has experimental_relax_shapes=True option that relaxes argument shapes that can avoid unnecessary retracing. For (3), please refer to https://www.tensorflow.org/guide/function#controlling_retracing and https://www.tensorflow.org/api_docs/python/tf/function for  more details.\n"
     ]
    },
    {
     "ename": "IndexError",
     "evalue": "index 0 is out of bounds for axis 0 with size 0",
     "output_type": "error",
     "traceback": [
      "\u001b[1;31m---------------------------------------------------------------------------\u001b[0m",
      "\u001b[1;31mIndexError\u001b[0m                                Traceback (most recent call last)",
      "\u001b[1;32m<ipython-input-17-4208e61f5241>\u001b[0m in \u001b[0;36m<module>\u001b[1;34m\u001b[0m\n\u001b[0;32m     12\u001b[0m \u001b[1;33m\u001b[0m\u001b[0m\n\u001b[0;32m     13\u001b[0m \u001b[1;32mfor\u001b[0m \u001b[0mletra\u001b[0m\u001b[1;33m,\u001b[0m \u001b[0mi\u001b[0m \u001b[1;32min\u001b[0m \u001b[0mtraining_set\u001b[0m\u001b[1;33m.\u001b[0m\u001b[0mclass_indices\u001b[0m\u001b[1;33m.\u001b[0m\u001b[0mitems\u001b[0m\u001b[1;33m(\u001b[0m\u001b[1;33m)\u001b[0m\u001b[1;33m:\u001b[0m\u001b[1;33m\u001b[0m\u001b[1;33m\u001b[0m\u001b[0m\n\u001b[1;32m---> 14\u001b[1;33m     \u001b[1;32mif\u001b[0m \u001b[0msaida\u001b[0m\u001b[1;33m[\u001b[0m\u001b[1;36m1\u001b[0m\u001b[1;33m]\u001b[0m\u001b[1;33m[\u001b[0m\u001b[1;36m0\u001b[0m\u001b[1;33m]\u001b[0m \u001b[1;33m==\u001b[0m \u001b[0mi\u001b[0m\u001b[1;33m:\u001b[0m\u001b[1;33m\u001b[0m\u001b[1;33m\u001b[0m\u001b[0m\n\u001b[0m\u001b[0;32m     15\u001b[0m         \u001b[0mprediction\u001b[0m \u001b[1;33m=\u001b[0m \u001b[0mletra\u001b[0m\u001b[1;33m\u001b[0m\u001b[1;33m\u001b[0m\u001b[0m\n\u001b[0;32m     16\u001b[0m \u001b[1;33m\u001b[0m\u001b[0m\n",
      "\u001b[1;31mIndexError\u001b[0m: index 0 is out of bounds for axis 0 with size 0"
     ]
    }
   ],
   "source": [
    "# fazer predições\n",
    "path = '../Data/asl_alphabet_test/asl_alphabet_test/F_test.jpg'\n",
    "\n",
    "test_image = image.load_img(path, target_size=(64, 64))\n",
    "test_image = image.img_to_array(test_image)\n",
    "test_image = np.expand_dims(test_image, axis = 0)\n",
    "result = cnn_sinais().predict(test_image)\n",
    "training_set.class_indices\n",
    "\n",
    "saida = np.where(result == 1)\n",
    "\n",
    "\n",
    "for letra, i in training_set.class_indices.items():\n",
    "    if saida[1][0] == i:\n",
    "        prediction = letra\n",
    "\n",
    "show = image.load_img(path)\n",
    "plt.imshow(show)\n",
    "\n",
    "print('Acho que é um '+ prediction+ '.')"
   ]
  },
  {
   "cell_type": "code",
   "execution_count": null,
   "metadata": {},
   "outputs": [],
   "source": []
  }
 ],
 "metadata": {
  "kernelspec": {
   "display_name": "Python 3",
   "language": "python",
   "name": "python3"
  },
  "language_info": {
   "codemirror_mode": {
    "name": "ipython",
    "version": 3
   },
   "file_extension": ".py",
   "mimetype": "text/x-python",
   "name": "python",
   "nbconvert_exporter": "python",
   "pygments_lexer": "ipython3",
   "version": "3.7.7"
  }
 },
 "nbformat": 4,
 "nbformat_minor": 4
}
