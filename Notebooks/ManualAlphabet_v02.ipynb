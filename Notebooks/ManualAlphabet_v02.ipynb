{
 "cells": [
  {
   "cell_type": "markdown",
   "metadata": {},
   "source": [
    "### Reconhecimento de alfabeto de sinais\n",
    "\n",
    "Utiliza CNN pra reconhecer síbolo do alfabeto americano de sinais. \n",
    "O presente notebook organiza os testes realizados anteriormente e treina o modelo com um maior número de épocas"
   ]
  },
  {
   "cell_type": "code",
   "execution_count": 1,
   "metadata": {},
   "outputs": [
    {
     "name": "stderr",
     "output_type": "stream",
     "text": [
      "\n",
      "Bad key \"text.kerning_factor\" on line 4 in\n",
      "C:\\Users\\Jefferson\\anaconda3\\lib\\site-packages\\matplotlib\\mpl-data\\stylelib\\_classic_test_patch.mplstyle.\n",
      "You probably need to get an updated matplotlibrc file from\n",
      "https://github.com/matplotlib/matplotlib/blob/v3.1.3/matplotlibrc.template\n",
      "or from the matplotlib source distribution\n"
     ]
    }
   ],
   "source": [
    "import tensorflow as tf\n",
    "from tensorflow.keras.preprocessing.image import ImageDataGenerator\n",
    "import matplotlib.pyplot as plt\n",
    "import numpy as np\n",
    "from tensorflow.keras.preprocessing import image"
   ]
  },
  {
   "cell_type": "code",
   "execution_count": 5,
   "metadata": {},
   "outputs": [
    {
     "name": "stdout",
     "output_type": "stream",
     "text": [
      "Found 65250 images belonging to 29 classes.\n"
     ]
    }
   ],
   "source": [
    "# raliza o preprocessamento das images com o ImageDataGenerator do Keras\n",
    "# Neste teste simpes, não iremos testar os parâmetros do preprocessamento\n",
    "\n",
    "datagen = ImageDataGenerator(\n",
    "    rescale=1./255, \n",
    "    shear_range=0.2,\n",
    "    horizontal_flip=True,\n",
    "    validation_split=0.25 # divide o dataset em treino e validação\n",
    ")\n",
    "\n",
    "training_set = datagen.flow_from_directory(\n",
    "    '../Data/asl_alphabet_train/asl_alphabet_train', \n",
    "    target_size = (64,64), \n",
    "    batch_size=32, \n",
    "    subset= 'training',\n",
    "    class_mode = 'categorical')"
   ]
  },
  {
   "cell_type": "code",
   "execution_count": 6,
   "metadata": {},
   "outputs": [
    {
     "name": "stdout",
     "output_type": "stream",
     "text": [
      "Found 21750 images belonging to 29 classes.\n"
     ]
    }
   ],
   "source": [
    "# cria o dataset de validação\n",
    "test_set = datagen.flow_from_directory(\n",
    "    '../Data/asl_alphabet_train/asl_alphabet_train',\n",
    "        target_size=(64, 64),\n",
    "        batch_size=32,\n",
    "        subset= 'validation',\n",
    "        class_mode = 'categorical')"
   ]
  },
  {
   "cell_type": "code",
   "execution_count": 7,
   "metadata": {},
   "outputs": [],
   "source": [
    "# Cria modelo de CNN\n",
    "def cnn_sinais():\n",
    "    # inicializa o modelo\n",
    "    cnn = tf.keras.models.Sequential()\n",
    "    # adiciona camada de convolução\n",
    "    cnn.add(tf.keras.layers.Conv2D(filters=32, kernel_size = 3, activation='relu', input_shape = [64,64,3]))\n",
    "    # adiciona pooling\n",
    "    cnn.add(tf.keras.layers.MaxPool2D(pool_size =2, strides = 2))\n",
    "    # adiciona segunda camada de convolução\n",
    "    cnn.add(tf.keras.layers.Conv2D(filters=32, kernel_size = 3, activation='relu'))\n",
    "    cnn.add(tf.keras.layers.MaxPool2D(pool_size =2, strides = 2))\n",
    "    # adiciona flattening\n",
    "    cnn.add(tf.keras.layers.Flatten())\n",
    "    # adiociona camada de full connection\n",
    "    cnn.add(tf.keras.layers.Dense(units = 1024, activation='relu'))\n",
    "    # adiciona camada de saída\n",
    "    cnn.add(tf.keras.layers.Dense(units = 29, activation='softmax'))\n",
    "    # compila o modelo\n",
    "    cnn.compile(optimizer='adam', loss='categorical_crossentropy', metrics=['accuracy'])\n",
    "    \n",
    "    return cnn"
   ]
  },
  {
   "cell_type": "code",
   "execution_count": 8,
   "metadata": {},
   "outputs": [
    {
     "name": "stdout",
     "output_type": "stream",
     "text": [
      "Epoch 1/25\n",
      "2040/2040 [==============================] - 595s 292ms/step - loss: 1.5039 - accuracy: 0.5595 - val_loss: 1.8300 - val_accuracy: 0.5267\n",
      "Epoch 2/25\n",
      "2040/2040 [==============================] - 612s 300ms/step - loss: 0.1308 - accuracy: 0.9574 - val_loss: 2.3746 - val_accuracy: 0.5701\n",
      "Epoch 3/25\n",
      "2040/2040 [==============================] - 596s 292ms/step - loss: 0.0769 - accuracy: 0.9745 - val_loss: 2.0783 - val_accuracy: 0.6186\n",
      "Epoch 4/25\n",
      "2040/2040 [==============================] - 666s 326ms/step - loss: 0.0551 - accuracy: 0.9837 - val_loss: 2.2055 - val_accuracy: 0.6183\n",
      "Epoch 5/25\n",
      "2040/2040 [==============================] - 587s 288ms/step - loss: 0.0335 - accuracy: 0.9899 - val_loss: 2.8586 - val_accuracy: 0.5903\n",
      "Epoch 6/25\n",
      "2040/2040 [==============================] - 555s 272ms/step - loss: 0.0278 - accuracy: 0.9914 - val_loss: 2.2349 - val_accuracy: 0.6054\n",
      "Epoch 7/25\n",
      "2040/2040 [==============================] - 520s 255ms/step - loss: 0.0251 - accuracy: 0.9922 - val_loss: 2.3575 - val_accuracy: 0.6393\n",
      "Epoch 8/25\n",
      "2040/2040 [==============================] - 524s 257ms/step - loss: 0.0163 - accuracy: 0.9955 - val_loss: 2.7328 - val_accuracy: 0.6071\n",
      "Epoch 9/25\n",
      "2040/2040 [==============================] - 507s 249ms/step - loss: 0.0196 - accuracy: 0.9948 - val_loss: 2.5454 - val_accuracy: 0.6337\n",
      "Epoch 10/25\n",
      "2040/2040 [==============================] - 508s 249ms/step - loss: 0.0221 - accuracy: 0.9939 - val_loss: 2.7031 - val_accuracy: 0.6394\n",
      "Epoch 11/25\n",
      "2040/2040 [==============================] - 501s 246ms/step - loss: 0.0180 - accuracy: 0.9949 - val_loss: 2.2484 - val_accuracy: 0.6253\n",
      "Epoch 12/25\n",
      "2040/2040 [==============================] - 504s 247ms/step - loss: 0.0183 - accuracy: 0.9954 - val_loss: 3.1533 - val_accuracy: 0.6220\n",
      "Epoch 13/25\n",
      "2040/2040 [==============================] - 499s 244ms/step - loss: 0.0169 - accuracy: 0.9957 - val_loss: 2.8903 - val_accuracy: 0.6235\n",
      "Epoch 14/25\n",
      "2040/2040 [==============================] - 489s 240ms/step - loss: 0.0133 - accuracy: 0.9968 - val_loss: 3.3858 - val_accuracy: 0.6303\n",
      "Epoch 15/25\n",
      "2040/2040 [==============================] - 496s 243ms/step - loss: 0.0149 - accuracy: 0.9964 - val_loss: 2.9457 - val_accuracy: 0.6444\n",
      "Epoch 16/25\n",
      "2040/2040 [==============================] - 512s 251ms/step - loss: 0.0120 - accuracy: 0.9969 - val_loss: 3.0624 - val_accuracy: 0.6416\n",
      "Epoch 17/25\n",
      "2040/2040 [==============================] - 517s 253ms/step - loss: 0.0091 - accuracy: 0.9974 - val_loss: 3.3498 - val_accuracy: 0.6248\n",
      "Epoch 18/25\n",
      "2040/2040 [==============================] - 510s 250ms/step - loss: 0.0098 - accuracy: 0.9977 - val_loss: 2.7192 - val_accuracy: 0.6383\n",
      "Epoch 19/25\n",
      "2040/2040 [==============================] - 512s 251ms/step - loss: 0.0140 - accuracy: 0.9970 - val_loss: 2.6850 - val_accuracy: 0.6385\n",
      "Epoch 20/25\n",
      "2040/2040 [==============================] - 511s 250ms/step - loss: 0.0091 - accuracy: 0.9976 - val_loss: 3.6985 - val_accuracy: 0.6468\n",
      "Epoch 21/25\n",
      "2040/2040 [==============================] - 505s 247ms/step - loss: 0.0092 - accuracy: 0.9977 - val_loss: 3.9350 - val_accuracy: 0.6069\n",
      "Epoch 22/25\n",
      "2040/2040 [==============================] - 503s 246ms/step - loss: 0.0126 - accuracy: 0.9972 - val_loss: 3.3044 - val_accuracy: 0.6446\n",
      "Epoch 23/25\n",
      "2040/2040 [==============================] - 505s 248ms/step - loss: 0.0120 - accuracy: 0.9976 - val_loss: 3.4496 - val_accuracy: 0.6424\n",
      "Epoch 24/25\n",
      "2040/2040 [==============================] - 504s 247ms/step - loss: 0.0056 - accuracy: 0.9987 - val_loss: 4.4126 - val_accuracy: 0.6052\n",
      "Epoch 25/25\n",
      "2040/2040 [==============================] - 502s 246ms/step - loss: 0.0112 - accuracy: 0.9973 - val_loss: 4.6933 - val_accuracy: 0.6119\n"
     ]
    }
   ],
   "source": [
    "modelo = cnn_sinais().fit(x = training_set, validation_data= test_set, epochs=25)"
   ]
  },
  {
   "cell_type": "code",
   "execution_count": 9,
   "metadata": {},
   "outputs": [
    {
     "data": {
      "image/png": "[encoded data removed]",
      "text/plain": [
       "<Figure size 432x288 with 1 Axes>"
      ]
     },
     "metadata": {
      "needs_background": "light"
     },
     "output_type": "display_data"
    },
    {
     "data": {
      "image/png": "[encoded data removed]",
      "text/plain": [
       "<Figure size 432x288 with 1 Axes>"
      ]
     },
     "metadata": {
      "needs_background": "light"
     },
     "output_type": "display_data"
    }
   ],
   "source": [
    "# summarize history for accuracy\n",
    "plt.plot(modelo.history['accuracy'])\n",
    "plt.plot(modelo.history['val_accuracy'])\n",
    "plt.title('model accuracy')\n",
    "plt.ylabel('accuracy')\n",
    "plt.xlabel('epoch')\n",
    "plt.legend(['train', 'test'], loc='upper left')\n",
    "plt.show()\n",
    "# summarize history for loss\n",
    "plt.plot(modelo.history['loss'])\n",
    "plt.plot(modelo.history['val_loss'])\n",
    "plt.title('model loss')\n",
    "plt.ylabel('loss')\n",
    "plt.xlabel('epoch')\n",
    "plt.legend(['train', 'test'], loc='upper left')\n",
    "plt.show()"
   ]
  },
  {
   "cell_type": "code",
   "execution_count": null,
   "metadata": {},
   "outputs": [],
   "source": [
    "# fazer predições\n",
    "path = '../Data/asl_alphabet_test/asl_alphabet_test/A_test.jpg'\n",
    "\n",
    "test_image = image.load_img(path, target_size=(64, 64))\n",
    "test_image = image.img_to_array(test_image)\n",
    "test_image = np.expand_dims(test_image, axis = 0)\n",
    "result = cnn.predict(test_image)\n",
    "training_set.class_indices\n",
    "\n",
    "saida = np.where(result == 1)\n",
    "\n",
    "\n",
    "for letra, i in training_set.class_indices.items():\n",
    "    if saida[1][0] == i:\n",
    "        prediction = letra\n",
    "\n",
    "show = image.load_img(path)\n",
    "plt.imshow(show)\n",
    "\n",
    "print('Acho que é um '+ prediction+ '.')"
   ]
  }
 ],
 "metadata": {
  "kernelspec": {
   "display_name": "Python 3",
   "language": "python",
   "name": "python3"
  },
  "language_info": {
   "codemirror_mode": {
    "name": "ipython",
    "version": 3
   },
   "file_extension": ".py",
   "mimetype": "text/x-python",
   "name": "python",
   "nbconvert_exporter": "python",
   "pygments_lexer": "ipython3",
   "version": "3.7.7"
  }
 },
 "nbformat": 4,
 "nbformat_minor": 4
}
